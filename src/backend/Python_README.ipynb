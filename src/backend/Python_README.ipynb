{
 "cells": [
  {
   "cell_type": "markdown",
   "metadata": {},
   "source": [
    "## CMUDict README"
   ]
  },
  {
   "cell_type": "code",
   "execution_count": 1,
   "metadata": {
    "collapsed": false
   },
   "outputs": [],
   "source": [
    "from CMUDict import CMUDict\n",
    "cmudict = CMUDict()\n",
    "cmudict.load_dict(\"dict.p\")"
   ]
  },
  {
   "cell_type": "markdown",
   "metadata": {},
   "source": [
    "### Get Phonemes for a word like this"
   ]
  },
  {
   "cell_type": "code",
   "execution_count": 7,
   "metadata": {
    "collapsed": false,
    "scrolled": false
   },
   "outputs": [
    {
     "name": "stdout",
     "output_type": "stream",
     "text": [
      "[[{'P': 0}, {'IH': '1'}, {'K': 0}, {'AH': '0'}, {'L': 0}]]\n"
     ]
    }
   ],
   "source": [
    "print cmudict.get_phonemes_from_text(\"Pickle\")"
   ]
  },
  {
   "cell_type": "markdown",
   "metadata": {},
   "source": [
    "### Get a list of all Phonemes like this"
   ]
  },
  {
   "cell_type": "code",
   "execution_count": 17,
   "metadata": {
    "collapsed": false,
    "scrolled": false
   },
   "outputs": [
    {
     "name": "stdout",
     "output_type": "stream",
     "text": [
      "['AA', 'AE', 'AH', 'AO', 'AW', 'AY', 'B', 'CH', 'D', 'DH', 'EH', 'ER', 'EY', 'F', 'G', 'HH', 'IH', 'IY', 'JH', 'K', 'L', 'M', 'N', 'NG', 'OW', 'OY', 'P', 'R', 'S', 'SH', 'T', 'TH', 'UH', 'UW', 'V', 'W', 'Y', 'Z', 'ZH']\n"
     ]
    }
   ],
   "source": [
    "print sorted(cmudict.get_phonemes())"
   ]
  },
  {
   "cell_type": "markdown",
   "metadata": {},
   "source": [
    "### Initialize Voice"
   ]
  },
  {
   "cell_type": "code",
   "execution_count": 1,
   "metadata": {
    "collapsed": false
   },
   "outputs": [
    {
     "name": "stdout",
     "output_type": "stream",
     "text": [
      "Pronounce AAlike <>. ENTER when done.\n",
      "* recording\n",
      "* done recording\n",
      "21085\n",
      "You can hit ENTER now.\n",
      "Pronounce AElike <>. ENTER when done.\n",
      "* recording\n",
      "* done recording\n",
      "17853\n",
      "You can hit ENTER now.\n",
      "Pronounce AHlike <>. ENTER when done.\n",
      "* recording\n",
      "* done recording\n",
      "8452\n",
      "You can hit ENTER now.\n",
      "Pronounce AOlike <>. ENTER when done.\n",
      "* recording\n",
      "* done recording\n",
      "9053\n",
      "You can hit ENTER now.\n",
      "Pronounce AWlike <>. ENTER when done.\n",
      "* recording\n",
      "* done recording\n",
      "4211\n",
      "You can hit ENTER now.\n"
     ]
    }
   ],
   "source": [
    "from model import Voice\n",
    "v = Voice(\"Richard\")"
   ]
  }
 ],
 "metadata": {
  "kernelspec": {
   "display_name": "Python 2",
   "language": "python",
   "name": "python2"
  },
  "language_info": {
   "codemirror_mode": {
    "name": "ipython",
    "version": 2
   },
   "file_extension": ".py",
   "mimetype": "text/x-python",
   "name": "python",
   "nbconvert_exporter": "python",
   "pygments_lexer": "ipython2",
   "version": "2.7.12"
  }
 },
 "nbformat": 4,
 "nbformat_minor": 0
}
