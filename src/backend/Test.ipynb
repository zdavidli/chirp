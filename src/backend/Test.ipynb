{
 "cells": [
  {
   "cell_type": "code",
   "execution_count": 1,
   "metadata": {
    "collapsed": true
   },
   "outputs": [],
   "source": [
    "from CMUDict import CMUDict\n",
    "cmudict = CMUDict()\n",
    "cmudict.load_dict(\"dict.p\")"
   ]
  },
  {
   "cell_type": "code",
   "execution_count": 7,
   "metadata": {
    "collapsed": false
   },
   "outputs": [
    {
     "name": "stdout",
     "output_type": "stream",
     "text": [
      "[[{'P': 0}, {'IH': '1'}, {'K': 0}, {'AH': '0'}, {'L': 0}]]\n"
     ]
    }
   ],
   "source": [
    "print cmudict.get_phonemes_from_text(\"Pickle\")"
   ]
  },
  {
   "cell_type": "code",
   "execution_count": 11,
   "metadata": {
    "collapsed": false
   },
   "outputs": [
    {
     "name": "stdout",
     "output_type": "stream",
     "text": [
      "Pronounce AA like: <>\n",
      "\n",
      "Pronounce AE like: <>\n",
      "\n",
      "Pronounce AH like: <>\n",
      "\n",
      "Pronounce AO like: <>\n",
      "\n",
      "Pronounce AW like: <>\n",
      "\n",
      "Pronounce AY like: <>\n",
      "\n",
      "Pronounce B like: <>\n",
      "\n",
      "Pronounce CH like: <>\n",
      "\n",
      "Pronounce D like: <>\n",
      "\n",
      "Pronounce DH like: <>\n",
      "\n",
      "Pronounce EH like: <>\n",
      "\n",
      "Pronounce ER like: <>\n",
      "\n",
      "Pronounce EY like: <>\n",
      "\n",
      "Pronounce F like: <>\n",
      "\n",
      "Pronounce G like: <>\n",
      "\n",
      "Pronounce HH like: <>\n",
      "\n",
      "Pronounce IH like: <>\n",
      "\n",
      "Pronounce IY like: <>\n",
      "\n",
      "Pronounce JH like: <>\n",
      "\n",
      "Pronounce K like: <>\n",
      "\n",
      "Pronounce L like: <>\n",
      "\n",
      "Pronounce M like: <>\n",
      "\n",
      "Pronounce N like: <>\n",
      "\n",
      "Pronounce NG like: <>\n",
      "\n",
      "Pronounce OW like: <>\n",
      "\n",
      "Pronounce OY like: <>\n",
      "\n",
      "Pronounce P like: <>\n",
      "\n",
      "Pronounce R like: <>\n",
      "\n",
      "Pronounce S like: <>\n",
      "\n",
      "Pronounce SH like: <>\n",
      "\n",
      "Pronounce T like: <>\n",
      "\n",
      "Pronounce TH like: <>\n",
      "\n",
      "Pronounce UH like: <>\n",
      "\n",
      "Pronounce UW like: <>\n",
      "\n",
      "Pronounce V like: <>\n",
      "\n",
      "Pronounce W like: <>\n",
      "\n",
      "Pronounce Y like: <>\n",
      "\n",
      "Pronounce Z like: <>\n",
      "\n",
      "Pronounce ZH like: <>\n",
      "\n"
     ]
    }
   ],
   "source": [
    "for p in sorted(cmudict.get_phonemes()):\n",
    "    listener = raw_\n",
    "    input(\"Pronounce \" + p + \" like: <>\")\n",
    "    print listener"
   ]
  },
  {
   "cell_type": "code",
   "execution_count": null,
   "metadata": {
    "collapsed": true
   },
   "outputs": [],
   "source": [
    "\"\""
   ]
  }
 ],
 "metadata": {
  "kernelspec": {
   "display_name": "Python 2",
   "language": "python",
   "name": "python2"
  },
  "language_info": {
   "codemirror_mode": {
    "name": "ipython",
    "version": 2
   },
   "file_extension": ".py",
   "mimetype": "text/x-python",
   "name": "python",
   "nbconvert_exporter": "python",
   "pygments_lexer": "ipython2",
   "version": "2.7.12"
  }
 },
 "nbformat": 4,
 "nbformat_minor": 0
}
